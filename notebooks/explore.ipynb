{
 "cells": [
  {
   "cell_type": "code",
   "execution_count": 1,
   "metadata": {},
   "outputs": [],
   "source": [
    "import torch\n",
    "from torch import nn\n",
    "from torch.utils.data import DataLoader\n",
    "from jepa.utils import set_seed\n",
    "from jepa.dataset import load_cifar, load_mnist\n",
    "from jepa.model.autoencoder import AutoEncoder, AutoencoderCriterion\n",
    "from jepa.model.jepa import Jepa\n",
    "import json"
   ]
  },
  {
   "cell_type": "code",
   "execution_count": 2,
   "metadata": {},
   "outputs": [
    {
     "name": "stdout",
     "output_type": "stream",
     "text": [
      "Using device:  cpu\n"
     ]
    }
   ],
   "source": [
    "device = \"cpu\" if not torch.cuda.is_available() else \"cuda\"\n",
    "print(\"Using device: \", device)\n",
    "\n",
    "seed = 30\n",
    "wandb_project = \"jepa-prove\"\n",
    "\n",
    "batch_size = 64\n",
    "test_size = 2048"
   ]
  },
  {
   "cell_type": "markdown",
   "metadata": {},
   "source": [
    "## Jepa"
   ]
  },
  {
   "cell_type": "code",
   "execution_count": 3,
   "metadata": {},
   "outputs": [
    {
     "name": "stdout",
     "output_type": "stream",
     "text": [
      "{\n",
      "  \"step\": 12800,\n",
      "  \"epoch\": 50,\n",
      "  \"date\": \"2024-04-23 18:01:42\",\n",
      "  \"optimizer\": {\n",
      "    \"lr\": 0.0005,\n",
      "    \"betas\": [\n",
      "      0.9,\n",
      "      0.999\n",
      "    ],\n",
      "    \"eps\": 1e-08,\n",
      "    \"weight_decay\": 0.1,\n",
      "    \"amsgrad\": false,\n",
      "    \"foreach\": null,\n",
      "    \"maximize\": false,\n",
      "    \"capturable\": false,\n",
      "    \"differentiable\": false,\n",
      "    \"fused\": null,\n",
      "    \"type\": \"AdamW\"\n",
      "  },\n",
      "  \"architecture\": {\n",
      "    \"type\": \"Jepa\",\n",
      "    \"encoder\": \"Sequential(\\n  (0): Linear(in_features=3072, out_features=3072, bias=True)\\n  (1): ReLU()\\n)\",\n",
      "    \"predictor\": \"Sequential(\\n  (0): Linear(in_features=3072, out_features=3072, bias=True)\\n)\"\n",
      "  },\n",
      "  \"hyperparameters\": {\n",
      "    \"lr\": 0.0005,\n",
      "    \"rho\": null,\n",
      "    \"batch_size\": 64,\n",
      "    \"max_epochs\": 50,\n",
      "    \"weight_decay\": 0.1,\n",
      "    \"optimizer\": \"AdamW\",\n",
      "    \"criterion\": {\n",
      "      \"criterion\": \"JepaCriterion\",\n",
      "      \"reconstruction_error\": \"MSELoss\",\n",
      "      \"sparsity_weight\": 0.0\n",
      "    },\n",
      "    \"scheduler\": null,\n",
      "    \"train_size\": 16384,\n",
      "    \"test_size\": 4096,\n",
      "    \"target_loss\": 0.0,\n",
      "    \"seed\": 5,\n",
      "    \"compile_model\": true\n",
      "  },\n",
      "  \"device\": {\n",
      "    \"hostname\": \"MacBook-Pro-4.local\",\n",
      "    \"cpu\": \"arm\",\n",
      "    \"pytorch_version\": \"2.2.2\",\n",
      "    \"device\": \"cpu\",\n",
      "    \"cuda_version\": null\n",
      "  },\n",
      "  \"train_set\": {\n",
      "    \"id\": \"cifar10-train\",\n",
      "    \"dataset_dir\": \"data/cifar-10-batches-py\",\n",
      "    \"num_samples\": 16384,\n",
      "    \"shuffle\": 5,\n",
      "    \"use_as\": \"train\"\n",
      "  },\n",
      "  \"test_set\": {\n",
      "    \"id\": \"cifar10-test\",\n",
      "    \"dataset_dir\": \"data/cifar-10-batches-py\",\n",
      "    \"num_samples\": 4096,\n",
      "    \"shuffle\": 5,\n",
      "    \"use_as\": \"test\"\n",
      "  }\n",
      "}\n"
     ]
    }
   ],
   "source": [
    "chkpt_dir = \"../checkpoints/Jepa/cifar10-train\"\n",
    "model, chkpt_metadata = Jepa.from_pretrained(chkpt_dir, device)\n",
    "print(json.dumps(chkpt_metadata, indent=2))"
   ]
  },
  {
   "cell_type": "code",
   "execution_count": 4,
   "metadata": {},
   "outputs": [],
   "source": [
    "id = chkpt_metadata[\"train_set\"][\"id\"]\n",
    "if \"mnist\" in id:\n",
    "    load_dataset = load_mnist\n",
    "elif \"cifar10\" in id:\n",
    "    def load_dataset(**kwargs):\n",
    "        return load_cifar(num_classes=10, **kwargs)\n",
    "elif \"cifar100\" in id:\n",
    "    def load_dataset(**kwargs):\n",
    "        return load_cifar(num_classes=100, **kwargs)\n",
    "else:\n",
    "    raise ValueError(\"Unknown dataset\")\n",
    "\n",
    "train_size = chkpt_metadata[\"train_set\"][\"num_samples\"]\n",
    "test_size = chkpt_metadata[\"test_set\"][\"num_samples\"]\n",
    "shuffle = chkpt_metadata[\"train_set\"][\"shuffle\"]  # assume same shuffle for test set (!)"
   ]
  },
  {
   "cell_type": "code",
   "execution_count": 5,
   "metadata": {},
   "outputs": [
    {
     "name": "stdout",
     "output_type": "stream",
     "text": [
      "Files already downloaded and verified\n",
      "Files already downloaded and verified\n"
     ]
    }
   ],
   "source": [
    "# dataset\n",
    "root = \"../data\"\n",
    "train_dataset, train_metadata = load_dataset(train=True, log_to_wandb=False, \n",
    "    project=wandb_project, root=root, jepa=False, shuffle=seed, num_samples=train_size)\n",
    "test_dataset, test_metadata = load_dataset(train=False, log_to_wandb=False, \n",
    "    project=wandb_project, root=root, jepa=False, shuffle=seed, num_samples=test_size)\n",
    "train_loader = DataLoader(train_dataset, batch_size=batch_size)\n",
    "test_loader = DataLoader(test_dataset, batch_size=test_size)  # be mindful of the batch size"
   ]
  },
  {
   "cell_type": "code",
   "execution_count": 6,
   "metadata": {},
   "outputs": [
    {
     "data": {
      "text/plain": [
       "Jepa(\n",
       "  (encoder): Sequential(\n",
       "    (0): Linear(in_features=3072, out_features=3072, bias=True)\n",
       "    (1): ReLU()\n",
       "  )\n",
       "  (predictor): Sequential(\n",
       "    (0): Linear(in_features=3072, out_features=3072, bias=True)\n",
       "  )\n",
       "  (ema): Sequential(\n",
       "    (0): Linear(in_features=3072, out_features=3072, bias=True)\n",
       "    (1): ReLU()\n",
       "  )\n",
       ")"
      ]
     },
     "execution_count": 6,
     "metadata": {},
     "output_type": "execute_result"
    }
   ],
   "source": [
    "model"
   ]
  },
  {
   "cell_type": "code",
   "execution_count": 7,
   "metadata": {},
   "outputs": [],
   "source": [
    "from jepa.evaluation import train_classifier, build_dataset_of_latents\n",
    "from matplotlib import pyplot as plt\n",
    "\n",
    "\n",
    "train_latents_dataset = build_dataset_of_latents(model.ema, train_loader, device)\n",
    "train_latents_dl = DataLoader(train_latents_dataset, batch_size=batch_size, shuffle=True)\n",
    "test_latents_dataset = build_dataset_of_latents(model.ema, test_loader, device)\n",
    "test_latents_dl = DataLoader(test_latents_dataset, batch_size=test_size, shuffle=False)\n",
    "num_classes = len(train_latents_dataset.labels.unique())"
   ]
  },
  {
   "cell_type": "code",
   "execution_count": 9,
   "metadata": {},
   "outputs": [
    {
     "name": "stdout",
     "output_type": "stream",
     "text": [
      "Final accuracy:  0.410400390625 Max accuracy:  0.488525390625\n"
     ]
    },
    {
     "data": {
      "image/png": "[encoded data removed]",
      "text/plain": [
       "<Figure size 640x480 with 1 Axes>"
      ]
     },
     "metadata": {},
     "output_type": "display_data"
    }
   ],
   "source": [
    "latent_dim = next(iter(train_latents_dl))['x'].shape[1]\n",
    "classifier = nn.Linear(latent_dim, num_classes)\n",
    "optimizer = torch.optim.AdamW(classifier.parameters(), lr=1e-3, weight_decay=1e-3)\n",
    "criterion = nn.CrossEntropyLoss()\n",
    "\n",
    "accs = train_classifier(classifier, train_latents_dl, test_latents_dl, criterion=criterion,\n",
    "                        optimizer=optimizer, epochs=100, device=device)\n",
    "\n",
    "plt.plot(accs)\n",
    "plt.title(\"Classification on frozen latents\")\n",
    "print(\"Final accuracy: \", accs[-1], \"Max accuracy: \", max(accs))\n",
    "plt.show()"
   ]
  },
  {
   "cell_type": "code",
   "execution_count": 8,
   "metadata": {},
   "outputs": [
    {
     "data": {
      "text/plain": [
       "tensor(0.0942)"
      ]
     },
     "execution_count": 8,
     "metadata": {},
     "output_type": "execute_result"
    }
   ],
   "source": [
    "torch.abs(train_latents_dataset.data).mean()"
   ]
  },
  {
   "cell_type": "code",
   "execution_count": 9,
   "metadata": {},
   "outputs": [
    {
     "data": {
      "text/plain": [
       "tensor(0.8269)"
      ]
     },
     "execution_count": 9,
     "metadata": {},
     "output_type": "execute_result"
    }
   ],
   "source": [
    "(train_latents_dataset.data == 0).sum() / train_latents_dataset.data.numel()"
   ]
  },
  {
   "cell_type": "code",
   "execution_count": 16,
   "metadata": {},
   "outputs": [
    {
     "data": {
      "image/png": "[encoded data removed]",
      "text/plain": [
       "<Figure size 640x480 with 1 Axes>"
      ]
     },
     "metadata": {},
     "output_type": "display_data"
    }
   ],
   "source": [
    "plt.hist(train_latents_dataset.data[:100].flatten(), bins=100)\n",
    "plt.yscale(\"log\")\n",
    "plt.title(\"Distribution of latents for relu jepa\")\n",
    "plt.show()"
   ]
  }
 ],
 "metadata": {
  "kernelspec": {
   "display_name": "jepa",
   "language": "python",
   "name": "python3"
  },
  "language_info": {
   "codemirror_mode": {
    "name": "ipython",
    "version": 3
   },
   "file_extension": ".py",
   "mimetype": "text/x-python",
   "name": "python",
   "nbconvert_exporter": "python",
   "pygments_lexer": "ipython3",
   "version": "3.11.8"
  }
 },
 "nbformat": 4,
 "nbformat_minor": 2
}
