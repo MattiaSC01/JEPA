{
 "cells": [
  {
   "cell_type": "code",
   "execution_count": 4,
   "metadata": {},
   "outputs": [],
   "source": [
    "import torch\n",
    "from torch import nn\n",
    "from torch.utils.data import DataLoader\n",
    "from jepa.utils import set_seed\n",
    "from jepa.dataset import load_cifar, load_mnist\n",
    "from jepa.model.autoencoder import AutoEncoder, AutoencoderCriterion\n",
    "from jepa.model.jepa import Jepa\n",
    "import json"
   ]
  },
  {
   "cell_type": "markdown",
   "metadata": {},
   "source": [
    "## Autoencoder"
   ]
  },
  {
   "cell_type": "code",
   "execution_count": 5,
   "metadata": {},
   "outputs": [
    {
     "name": "stdout",
     "output_type": "stream",
     "text": [
      "Using device:  cpu\n"
     ]
    }
   ],
   "source": [
    "device = \"cpu\" if not torch.cuda.is_available() else \"cuda\"\n",
    "print(\"Using device: \", device)\n",
    "\n",
    "seed = 30\n",
    "wandb_project = \"jepa-prove\"\n",
    "\n",
    "batch_size = 64\n",
    "test_size = 2048"
   ]
  },
  {
   "cell_type": "code",
   "execution_count": 6,
   "metadata": {},
   "outputs": [
    {
     "name": "stdout",
     "output_type": "stream",
     "text": [
      "{\n",
      "  \"step\": 2560,\n",
      "  \"epoch\": 10,\n",
      "  \"date\": \"2024-04-18 11:54:18\",\n",
      "  \"optimizer\": {\n",
      "    \"lr\": 0.0005,\n",
      "    \"betas\": [\n",
      "      0.9,\n",
      "      0.999\n",
      "    ],\n",
      "    \"eps\": 1e-08,\n",
      "    \"weight_decay\": 0.1,\n",
      "    \"amsgrad\": false,\n",
      "    \"foreach\": null,\n",
      "    \"maximize\": false,\n",
      "    \"capturable\": false,\n",
      "    \"differentiable\": false,\n",
      "    \"fused\": null,\n",
      "    \"type\": \"AdamW\"\n",
      "  },\n",
      "  \"architecture\": {\n",
      "    \"type\": \"AutoEncoder\",\n",
      "    \"input_dim\": 784,\n",
      "    \"hidden_layers\": [\n",
      "      784,\n",
      "      30\n",
      "    ],\n",
      "    \"activation\": \"ReLU\",\n",
      "    \"decoder_hidden\": [\n",
      "      784\n",
      "    ]\n",
      "  },\n",
      "  \"hyperparameters\": {\n",
      "    \"lr\": 0.0005,\n",
      "    \"rho\": null,\n",
      "    \"batch_size\": 64,\n",
      "    \"max_epochs\": 10,\n",
      "    \"weight_decay\": 0.1,\n",
      "    \"optimizer\": \"AdamW\",\n",
      "    \"criterion\": {\n",
      "      \"criterion\": \"AutoencoderCriterion\",\n",
      "      \"reconstruction_error\": \"MSELoss\",\n",
      "      \"sparsity_weight\": 0.0\n",
      "    },\n",
      "    \"scheduler\": null,\n",
      "    \"train_size\": 16384,\n",
      "    \"test_size\": 2048,\n",
      "    \"target_loss\": 0.0,\n",
      "    \"seed\": 30,\n",
      "    \"compile_model\": true,\n",
      "    \"train_set_percentage_for_flatness\": 0.125\n",
      "  },\n",
      "  \"device\": {\n",
      "    \"hostname\": \"MacBook-Pro-4.local\",\n",
      "    \"cpu\": \"arm\",\n",
      "    \"pytorch_version\": \"2.2.2\",\n",
      "    \"device\": \"cpu\",\n",
      "    \"cuda_version\": null\n",
      "  },\n",
      "  \"train_set\": {\n",
      "    \"id\": \"mnist-train\",\n",
      "    \"shuffle\": 30,\n",
      "    \"dataset_dir\": \"data/MNIST\",\n",
      "    \"num_samples\": 16384,\n",
      "    \"use_as\": \"train\"\n",
      "  },\n",
      "  \"test_set\": {\n",
      "    \"id\": \"mnist-test\",\n",
      "    \"shuffle\": 30,\n",
      "    \"dataset_dir\": \"data/MNIST\",\n",
      "    \"num_samples\": 2048,\n",
      "    \"use_as\": \"test\"\n",
      "  }\n",
      "}\n"
     ]
    }
   ],
   "source": [
    "chkpt_dir = \"../checkpoints/AutoEncoder/mnist-train\"\n",
    "model, chkpt_metadata = AutoEncoder.from_pretrained(chkpt_dir, device)\n",
    "print(json.dumps(chkpt_metadata, indent=2))"
   ]
  },
  {
   "cell_type": "code",
   "execution_count": 7,
   "metadata": {},
   "outputs": [],
   "source": [
    "id = chkpt_metadata[\"train_set\"][\"id\"]\n",
    "if \"mnist\" in id:\n",
    "    load_dataset = load_mnist\n",
    "elif \"cifar10\" in id:\n",
    "    def load_dataset(**kwargs):\n",
    "        return load_cifar(num_classes=10, **kwargs)\n",
    "elif \"cifar100\" in id:\n",
    "    def load_dataset(**kwargs):\n",
    "        return load_cifar(num_classes=100, **kwargs)\n",
    "else:\n",
    "    raise ValueError(\"Unknown dataset\")\n",
    "\n",
    "train_size = chkpt_metadata[\"train_set\"][\"num_samples\"]\n",
    "test_size = chkpt_metadata[\"test_set\"][\"num_samples\"]\n",
    "shuffle = chkpt_metadata[\"train_set\"][\"shuffle\"]  # assume same shuffle for test set (!)"
   ]
  },
  {
   "cell_type": "code",
   "execution_count": 8,
   "metadata": {},
   "outputs": [],
   "source": [
    "# dataset\n",
    "root = \"../data\"\n",
    "train_dataset, train_metadata = load_dataset(train=True, log_to_wandb=False, \n",
    "    project=wandb_project, root=root, jepa=False, shuffle=seed, num_samples=train_size)\n",
    "test_dataset, test_metadata = load_dataset(train=False, log_to_wandb=False, \n",
    "    project=wandb_project, root=root, jepa=False, shuffle=seed, num_samples=test_size)\n",
    "train_loader = DataLoader(train_dataset, batch_size=batch_size)\n",
    "test_loader = DataLoader(test_dataset, batch_size=test_size)  # be mindful of the batch size"
   ]
  },
  {
   "cell_type": "code",
   "execution_count": 9,
   "metadata": {},
   "outputs": [
    {
     "data": {
      "text/plain": [
       "AutoEncoder(\n",
       "  (encoder): Sequential(\n",
       "    (0): Linear(in_features=784, out_features=784, bias=True)\n",
       "    (1): ReLU()\n",
       "    (2): Linear(in_features=784, out_features=30, bias=True)\n",
       "  )\n",
       "  (decoder): Sequential(\n",
       "    (0): Linear(in_features=30, out_features=784, bias=True)\n",
       "    (1): ReLU()\n",
       "    (2): Linear(in_features=784, out_features=784, bias=True)\n",
       "  )\n",
       ")"
      ]
     },
     "execution_count": 9,
     "metadata": {},
     "output_type": "execute_result"
    }
   ],
   "source": [
    "model"
   ]
  },
  {
   "cell_type": "markdown",
   "metadata": {},
   "source": [
    "### Classification"
   ]
  },
  {
   "cell_type": "code",
   "execution_count": 10,
   "metadata": {},
   "outputs": [],
   "source": [
    "from jepa.evaluation import train_classifier, build_dataset_of_latents\n",
    "from matplotlib import pyplot as plt\n",
    "\n",
    "\n",
    "train_latents_dataset = build_dataset_of_latents(model.encoder, train_loader, device)\n",
    "train_latents_dl = DataLoader(train_latents_dataset, batch_size=batch_size, shuffle=True)\n",
    "test_latents_dataset = build_dataset_of_latents(model.encoder, test_loader, device)\n",
    "test_latents_dl = DataLoader(test_latents_dataset, batch_size=test_size, shuffle=False)\n",
    "num_classes = len(train_latents_dataset.labels.unique())"
   ]
  },
  {
   "cell_type": "code",
   "execution_count": 11,
   "metadata": {},
   "outputs": [
    {
     "ename": "TypeError",
     "evalue": "train_classifier() missing 1 required positional argument: 'criterion'",
     "output_type": "error",
     "traceback": [
      "\u001b[0;31m---------------------------------------------------------------------------\u001b[0m",
      "\u001b[0;31mTypeError\u001b[0m                                 Traceback (most recent call last)",
      "Cell \u001b[0;32mIn[11], line 5\u001b[0m\n\u001b[1;32m      2\u001b[0m classifier \u001b[38;5;241m=\u001b[39m nn\u001b[38;5;241m.\u001b[39mLinear(latent_dim, num_classes)\u001b[38;5;241m.\u001b[39mto(device)\n\u001b[1;32m      3\u001b[0m optimizer \u001b[38;5;241m=\u001b[39m torch\u001b[38;5;241m.\u001b[39moptim\u001b[38;5;241m.\u001b[39mAdamW(classifier\u001b[38;5;241m.\u001b[39mparameters(), lr\u001b[38;5;241m=\u001b[39m\u001b[38;5;241m1e-3\u001b[39m, weight_decay\u001b[38;5;241m=\u001b[39m\u001b[38;5;241m1e-3\u001b[39m)\n\u001b[0;32m----> 5\u001b[0m accs \u001b[38;5;241m=\u001b[39m \u001b[43mtrain_classifier\u001b[49m\u001b[43m(\u001b[49m\u001b[43mclassifier\u001b[49m\u001b[43m,\u001b[49m\u001b[43m \u001b[49m\u001b[43mtrain_latents_dl\u001b[49m\u001b[43m,\u001b[49m\u001b[43m \u001b[49m\u001b[43mtest_latents_dl\u001b[49m\u001b[43m,\u001b[49m\n\u001b[1;32m      6\u001b[0m \u001b[43m                                   \u001b[49m\u001b[43moptimizer\u001b[49m\u001b[43m,\u001b[49m\u001b[43m \u001b[49m\u001b[43mepochs\u001b[49m\u001b[38;5;241;43m=\u001b[39;49m\u001b[38;5;241;43m100\u001b[39;49m\u001b[43m,\u001b[49m\u001b[43m \u001b[49m\u001b[43mdevice\u001b[49m\u001b[38;5;241;43m=\u001b[39;49m\u001b[43mdevice\u001b[49m\u001b[43m)\u001b[49m\n\u001b[1;32m      8\u001b[0m plt\u001b[38;5;241m.\u001b[39mplot(accs)\n\u001b[1;32m      9\u001b[0m \u001b[38;5;28mprint\u001b[39m(\u001b[38;5;124m\"\u001b[39m\u001b[38;5;124mFinal accuracy: \u001b[39m\u001b[38;5;124m\"\u001b[39m, accs[\u001b[38;5;241m-\u001b[39m\u001b[38;5;241m1\u001b[39m], \u001b[38;5;124m\"\u001b[39m\u001b[38;5;124mMax accuracy: \u001b[39m\u001b[38;5;124m\"\u001b[39m, \u001b[38;5;28mmax\u001b[39m(accs))\n",
      "\u001b[0;31mTypeError\u001b[0m: train_classifier() missing 1 required positional argument: 'criterion'"
     ]
    }
   ],
   "source": [
    "latent_dim = next(iter(train_latents_dl))['x'].shape[1]\n",
    "classifier = nn.Linear(latent_dim, num_classes).to(device)\n",
    "optimizer = torch.optim.AdamW(classifier.parameters(), lr=1e-3, weight_decay=1e-3)\n",
    "\n",
    "accs = train_classifier(classifier, train_latents_dl, test_latents_dl,\n",
    "                                   optimizer, epochs=100, device=device)\n",
    "\n",
    "plt.plot(accs)\n",
    "print(\"Final accuracy: \", accs[-1], \"Max accuracy: \", max(accs))\n",
    "plt.show()"
   ]
  },
  {
   "cell_type": "code",
   "execution_count": null,
   "metadata": {},
   "outputs": [
    {
     "name": "stdout",
     "output_type": "stream",
     "text": [
      "Final accuracy:  0.900390625 Max accuracy:  0.90771484375\n"
     ]
    },
    {
     "data": {
      "image/png": "[encoded data removed]",
      "text/plain": [
       "<Figure size 640x480 with 1 Axes>"
      ]
     },
     "metadata": {},
     "output_type": "display_data"
    }
   ],
   "source": [
    "input_dim = next(iter(train_loader))['x'].shape[1]\n",
    "classifier = nn.Linear(input_dim, num_classes).to(device)\n",
    "optimizer = torch.optim.AdamW(classifier.parameters(), lr=1e-3, weight_decay=1e-3)\n",
    "\n",
    "accs = train_classifier(classifier, train_loader, test_loader,\n",
    "                                   optimizer, epochs=100, device=device)\n",
    "\n",
    "plt.plot(accs)\n",
    "print(\"Final accuracy: \", accs[-1], \"Max accuracy: \", max(accs))\n",
    "plt.show()"
   ]
  },
  {
   "cell_type": "code",
   "execution_count": 15,
   "metadata": {},
   "outputs": [
    {
     "data": {
      "text/plain": [
       "torch.Size([64, 784])"
      ]
     },
     "execution_count": 15,
     "metadata": {},
     "output_type": "execute_result"
    }
   ],
   "source": [
    "next(iter(train_loader))[\"x\"].shape"
   ]
  },
  {
   "cell_type": "markdown",
   "metadata": {},
   "source": [
    "## Jepa"
   ]
  },
  {
   "cell_type": "code",
   "execution_count": 13,
   "metadata": {},
   "outputs": [
    {
     "name": "stdout",
     "output_type": "stream",
     "text": [
      "Using device:  cpu\n"
     ]
    }
   ],
   "source": [
    "device = \"cpu\" if not torch.cuda.is_available() else \"cuda\"\n",
    "print(\"Using device: \", device)\n",
    "\n",
    "seed = 30\n",
    "wandb_project = \"jepa-prove\"\n",
    "\n",
    "batch_size = 64\n",
    "test_size = 2048"
   ]
  },
  {
   "cell_type": "code",
   "execution_count": 14,
   "metadata": {},
   "outputs": [
    {
     "name": "stdout",
     "output_type": "stream",
     "text": [
      "{\n",
      "  \"step\": 7680,\n",
      "  \"epoch\": 30,\n",
      "  \"date\": \"2024-04-17 12:39:38\",\n",
      "  \"optimizer\": {\n",
      "    \"lr\": 0.001,\n",
      "    \"betas\": [\n",
      "      0.9,\n",
      "      0.999\n",
      "    ],\n",
      "    \"eps\": 1e-08,\n",
      "    \"weight_decay\": 0.1,\n",
      "    \"amsgrad\": false,\n",
      "    \"foreach\": null,\n",
      "    \"maximize\": false,\n",
      "    \"capturable\": false,\n",
      "    \"differentiable\": false,\n",
      "    \"fused\": null,\n",
      "    \"type\": \"AdamW\"\n",
      "  },\n",
      "  \"architecture\": {\n",
      "    \"type\": \"Jepa\",\n",
      "    \"encoder\": \"Sequential(\\n  (0): Linear(in_features=784, out_features=30, bias=True)\\n)\",\n",
      "    \"predictor\": \"Sequential(\\n  (0): Linear(in_features=30, out_features=30, bias=True)\\n)\"\n",
      "  },\n",
      "  \"hyperparameters\": {\n",
      "    \"lr\": 0.001,\n",
      "    \"rho\": null,\n",
      "    \"batch_size\": 64,\n",
      "    \"max_epochs\": 30,\n",
      "    \"weight_decay\": 0.1,\n",
      "    \"optimizer\": \"AdamW\",\n",
      "    \"criterion\": {\n",
      "      \"criterion\": \"JepaCriterion\",\n",
      "      \"reconstruction_error\": \"MSELoss\",\n",
      "      \"sparsity_weight\": 0.0\n",
      "    },\n",
      "    \"scheduler\": null,\n",
      "    \"train_size\": 16384,\n",
      "    \"test_size\": 2048,\n",
      "    \"target_loss\": 0.0,\n",
      "    \"seed\": 30,\n",
      "    \"compile_model\": true\n",
      "  },\n",
      "  \"device\": {\n",
      "    \"hostname\": \"MacBook-Pro-4.local\",\n",
      "    \"cpu\": \"arm\",\n",
      "    \"pytorch_version\": \"2.2.2\",\n",
      "    \"device\": \"cpu\",\n",
      "    \"cuda_version\": null\n",
      "  },\n",
      "  \"train_set\": {\n",
      "    \"id\": \"mnist-train\",\n",
      "    \"shuffle\": 30,\n",
      "    \"dataset_dir\": \"data/MNIST\",\n",
      "    \"num_samples\": 16384,\n",
      "    \"use_as\": \"train\"\n",
      "  },\n",
      "  \"test_set\": {\n",
      "    \"id\": \"mnist-test\",\n",
      "    \"shuffle\": 30,\n",
      "    \"dataset_dir\": \"data/MNIST\",\n",
      "    \"num_samples\": 2048,\n",
      "    \"use_as\": \"test\"\n",
      "  }\n",
      "}\n"
     ]
    }
   ],
   "source": [
    "chkpt_dir = \"../checkpoints/Jepa/mnist-train\"\n",
    "model, chkpt_metadata = Jepa.from_pretrained(chkpt_dir, device)\n",
    "print(json.dumps(chkpt_metadata, indent=2))"
   ]
  },
  {
   "cell_type": "code",
   "execution_count": 15,
   "metadata": {},
   "outputs": [],
   "source": [
    "id = chkpt_metadata[\"train_set\"][\"id\"]\n",
    "if \"mnist\" in id:\n",
    "    load_dataset = load_mnist\n",
    "elif \"cifar10\" in id:\n",
    "    def load_dataset(**kwargs):\n",
    "        return load_cifar(num_classes=10, **kwargs)\n",
    "elif \"cifar100\" in id:\n",
    "    def load_dataset(**kwargs):\n",
    "        return load_cifar(num_classes=100, **kwargs)\n",
    "else:\n",
    "    raise ValueError(\"Unknown dataset\")\n",
    "\n",
    "train_size = chkpt_metadata[\"train_set\"][\"num_samples\"]\n",
    "test_size = chkpt_metadata[\"test_set\"][\"num_samples\"]\n",
    "shuffle = chkpt_metadata[\"train_set\"][\"shuffle\"]  # assume same shuffle for test set (!)"
   ]
  },
  {
   "cell_type": "code",
   "execution_count": 16,
   "metadata": {},
   "outputs": [],
   "source": [
    "# dataset\n",
    "root = \"../data\"\n",
    "train_dataset, train_metadata = load_dataset(train=True, log_to_wandb=False, \n",
    "    project=wandb_project, root=root, jepa=False, shuffle=seed, num_samples=train_size)\n",
    "test_dataset, test_metadata = load_dataset(train=False, log_to_wandb=False, \n",
    "    project=wandb_project, root=root, jepa=False, shuffle=seed, num_samples=test_size)\n",
    "train_loader = DataLoader(train_dataset, batch_size=batch_size)\n",
    "test_loader = DataLoader(test_dataset, batch_size=test_size)  # be mindful of the batch size"
   ]
  },
  {
   "cell_type": "code",
   "execution_count": 17,
   "metadata": {},
   "outputs": [
    {
     "data": {
      "text/plain": [
       "Jepa(\n",
       "  (encoder): Sequential(\n",
       "    (0): Linear(in_features=784, out_features=30, bias=True)\n",
       "  )\n",
       "  (predictor): Sequential(\n",
       "    (0): Linear(in_features=30, out_features=30, bias=True)\n",
       "  )\n",
       "  (ema): Sequential(\n",
       "    (0): Linear(in_features=784, out_features=30, bias=True)\n",
       "  )\n",
       ")"
      ]
     },
     "execution_count": 17,
     "metadata": {},
     "output_type": "execute_result"
    }
   ],
   "source": [
    "model"
   ]
  },
  {
   "cell_type": "code",
   "execution_count": 7,
   "metadata": {},
   "outputs": [
    {
     "data": {
      "text/plain": [
       "{'x': tensor([[-1., -1., -1.,  ..., -1., -1., -1.],\n",
       "         [-1., -1., -1.,  ..., -1., -1., -1.],\n",
       "         [-1., -1., -1.,  ..., -1., -1., -1.],\n",
       "         ...,\n",
       "         [-1., -1., -1.,  ..., -1., -1., -1.],\n",
       "         [-1., -1., -1.,  ..., -1., -1., -1.],\n",
       "         [-1., -1., -1.,  ..., -1., -1., -1.]]),\n",
       " 'y': tensor([5, 9, 1,  ..., 9, 0, 8])}"
      ]
     },
     "execution_count": 7,
     "metadata": {},
     "output_type": "execute_result"
    }
   ],
   "source": [
    "batch = next(iter(test_loader))\n",
    "batch"
   ]
  },
  {
   "cell_type": "code",
   "execution_count": 8,
   "metadata": {},
   "outputs": [],
   "source": [
    "x = batch[\"x\"].to(device)\n",
    "y = batch[\"y\"]"
   ]
  },
  {
   "cell_type": "code",
   "execution_count": 9,
   "metadata": {},
   "outputs": [],
   "source": [
    "latents = model.encode(x)\n",
    "torch.abs(latents).mean()"
   ]
  }
 ],
 "metadata": {
  "kernelspec": {
   "display_name": "jepa",
   "language": "python",
   "name": "python3"
  },
  "language_info": {
   "codemirror_mode": {
    "name": "ipython",
    "version": 3
   },
   "file_extension": ".py",
   "mimetype": "text/x-python",
   "name": "python",
   "nbconvert_exporter": "python",
   "pygments_lexer": "ipython3",
   "version": "3.11.8"
  }
 },
 "nbformat": 4,
 "nbformat_minor": 2
}
