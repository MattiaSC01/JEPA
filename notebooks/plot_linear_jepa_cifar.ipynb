{
 "cells": [
  {
   "cell_type": "code",
   "execution_count": 1,
   "metadata": {},
   "outputs": [],
   "source": [
    "import torch\n",
    "from torch import nn\n",
    "from torch.utils.data import DataLoader\n",
    "from jepa.utils import set_seed\n",
    "from jepa.dataset import load_cifar, load_mnist\n",
    "from jepa.model.autoencoder import AutoEncoder, AutoencoderCriterion\n",
    "from jepa.model.jepa import Jepa\n",
    "from jepa.utils import sequential_from_string\n",
    "from jepa.evaluation import train_classifier, build_dataset_of_latents\n",
    "import pandas as pd\n",
    "import numpy as np\n",
    "import matplotlib.pyplot as plt\n",
    "import json"
   ]
  },
  {
   "cell_type": "markdown",
   "metadata": {},
   "source": [
    "## Jepa"
   ]
  },
  {
   "cell_type": "code",
   "execution_count": 2,
   "metadata": {},
   "outputs": [
    {
     "data": {
      "text/html": [
       "<div>\n",
       "<style scoped>\n",
       "    .dataframe tbody tr th:only-of-type {\n",
       "        vertical-align: middle;\n",
       "    }\n",
       "\n",
       "    .dataframe tbody tr th {\n",
       "        vertical-align: top;\n",
       "    }\n",
       "\n",
       "    .dataframe thead th {\n",
       "        text-align: right;\n",
       "    }\n",
       "</style>\n",
       "<table border=\"1\" class=\"dataframe\">\n",
       "  <thead>\n",
       "    <tr style=\"text-align: right;\">\n",
       "      <th></th>\n",
       "      <th>Name</th>\n",
       "      <th>Created</th>\n",
       "      <th>Runtime</th>\n",
       "      <th>State</th>\n",
       "      <th>device/device</th>\n",
       "      <th>batch_size</th>\n",
       "      <th>test_size</th>\n",
       "      <th>train_size</th>\n",
       "      <th>model/type</th>\n",
       "      <th>model/activation</th>\n",
       "      <th>...</th>\n",
       "      <th>train/epoch</th>\n",
       "      <th>train/flatness_avg_diff</th>\n",
       "      <th>train/latent_l1norm</th>\n",
       "      <th>train/loss</th>\n",
       "      <th>train/weight_norm</th>\n",
       "      <th>val/denoising_avg_diff</th>\n",
       "      <th>val/epoch</th>\n",
       "      <th>val/flatness_avg_diff</th>\n",
       "      <th>val/latent_l1norm</th>\n",
       "      <th>val/loss</th>\n",
       "    </tr>\n",
       "  </thead>\n",
       "  <tbody>\n",
       "    <tr>\n",
       "      <th>0</th>\n",
       "      <td>smart-sweep-150</td>\n",
       "      <td>2024-04-20T01:51:31.000Z</td>\n",
       "      <td>88</td>\n",
       "      <td>finished</td>\n",
       "      <td>cuda</td>\n",
       "      <td>64</td>\n",
       "      <td>4096</td>\n",
       "      <td>16384</td>\n",
       "      <td>Jepa</td>\n",
       "      <td>NaN</td>\n",
       "      <td>...</td>\n",
       "      <td>50</td>\n",
       "      <td>NaN</td>\n",
       "      <td>0.163857</td>\n",
       "      <td>0.003276</td>\n",
       "      <td>NaN</td>\n",
       "      <td>NaN</td>\n",
       "      <td>50</td>\n",
       "      <td>NaN</td>\n",
       "      <td>0.172956</td>\n",
       "      <td>0.004516</td>\n",
       "    </tr>\n",
       "    <tr>\n",
       "      <th>1</th>\n",
       "      <td>whole-sweep-149</td>\n",
       "      <td>2024-04-20T01:49:58.000Z</td>\n",
       "      <td>90</td>\n",
       "      <td>finished</td>\n",
       "      <td>cuda</td>\n",
       "      <td>64</td>\n",
       "      <td>4096</td>\n",
       "      <td>16384</td>\n",
       "      <td>Jepa</td>\n",
       "      <td>NaN</td>\n",
       "      <td>...</td>\n",
       "      <td>50</td>\n",
       "      <td>NaN</td>\n",
       "      <td>0.061119</td>\n",
       "      <td>0.001953</td>\n",
       "      <td>NaN</td>\n",
       "      <td>NaN</td>\n",
       "      <td>50</td>\n",
       "      <td>NaN</td>\n",
       "      <td>0.070309</td>\n",
       "      <td>0.003153</td>\n",
       "    </tr>\n",
       "    <tr>\n",
       "      <th>2</th>\n",
       "      <td>amber-sweep-148</td>\n",
       "      <td>2024-04-20T01:48:20.000Z</td>\n",
       "      <td>93</td>\n",
       "      <td>finished</td>\n",
       "      <td>cuda</td>\n",
       "      <td>64</td>\n",
       "      <td>4096</td>\n",
       "      <td>16384</td>\n",
       "      <td>Jepa</td>\n",
       "      <td>NaN</td>\n",
       "      <td>...</td>\n",
       "      <td>50</td>\n",
       "      <td>NaN</td>\n",
       "      <td>0.092054</td>\n",
       "      <td>0.002468</td>\n",
       "      <td>NaN</td>\n",
       "      <td>NaN</td>\n",
       "      <td>50</td>\n",
       "      <td>NaN</td>\n",
       "      <td>0.113451</td>\n",
       "      <td>0.003434</td>\n",
       "    </tr>\n",
       "    <tr>\n",
       "      <th>3</th>\n",
       "      <td>easy-sweep-147</td>\n",
       "      <td>2024-04-20T01:46:41.000Z</td>\n",
       "      <td>95</td>\n",
       "      <td>finished</td>\n",
       "      <td>cuda</td>\n",
       "      <td>64</td>\n",
       "      <td>4096</td>\n",
       "      <td>16384</td>\n",
       "      <td>Jepa</td>\n",
       "      <td>NaN</td>\n",
       "      <td>...</td>\n",
       "      <td>50</td>\n",
       "      <td>NaN</td>\n",
       "      <td>0.060832</td>\n",
       "      <td>0.003079</td>\n",
       "      <td>NaN</td>\n",
       "      <td>NaN</td>\n",
       "      <td>50</td>\n",
       "      <td>NaN</td>\n",
       "      <td>0.071301</td>\n",
       "      <td>0.004227</td>\n",
       "    </tr>\n",
       "    <tr>\n",
       "      <th>4</th>\n",
       "      <td>golden-sweep-146</td>\n",
       "      <td>2024-04-20T01:45:04.000Z</td>\n",
       "      <td>91</td>\n",
       "      <td>finished</td>\n",
       "      <td>cuda</td>\n",
       "      <td>64</td>\n",
       "      <td>4096</td>\n",
       "      <td>16384</td>\n",
       "      <td>Jepa</td>\n",
       "      <td>NaN</td>\n",
       "      <td>...</td>\n",
       "      <td>50</td>\n",
       "      <td>NaN</td>\n",
       "      <td>0.082574</td>\n",
       "      <td>0.001592</td>\n",
       "      <td>NaN</td>\n",
       "      <td>NaN</td>\n",
       "      <td>50</td>\n",
       "      <td>NaN</td>\n",
       "      <td>0.094391</td>\n",
       "      <td>0.002368</td>\n",
       "    </tr>\n",
       "  </tbody>\n",
       "</table>\n",
       "<p>5 rows × 210 columns</p>\n",
       "</div>"
      ],
      "text/plain": [
       "               Name                   Created  Runtime     State  \\\n",
       "0   smart-sweep-150  2024-04-20T01:51:31.000Z       88  finished   \n",
       "1   whole-sweep-149  2024-04-20T01:49:58.000Z       90  finished   \n",
       "2   amber-sweep-148  2024-04-20T01:48:20.000Z       93  finished   \n",
       "3    easy-sweep-147  2024-04-20T01:46:41.000Z       95  finished   \n",
       "4  golden-sweep-146  2024-04-20T01:45:04.000Z       91  finished   \n",
       "\n",
       "  device/device  batch_size  test_size  train_size model/type  \\\n",
       "0          cuda          64       4096       16384       Jepa   \n",
       "1          cuda          64       4096       16384       Jepa   \n",
       "2          cuda          64       4096       16384       Jepa   \n",
       "3          cuda          64       4096       16384       Jepa   \n",
       "4          cuda          64       4096       16384       Jepa   \n",
       "\n",
       "   model/activation  ...  train/epoch  train/flatness_avg_diff  \\\n",
       "0               NaN  ...           50                      NaN   \n",
       "1               NaN  ...           50                      NaN   \n",
       "2               NaN  ...           50                      NaN   \n",
       "3               NaN  ...           50                      NaN   \n",
       "4               NaN  ...           50                      NaN   \n",
       "\n",
       "   train/latent_l1norm train/loss  train/weight_norm  val/denoising_avg_diff  \\\n",
       "0             0.163857   0.003276                NaN                     NaN   \n",
       "1             0.061119   0.001953                NaN                     NaN   \n",
       "2             0.092054   0.002468                NaN                     NaN   \n",
       "3             0.060832   0.003079                NaN                     NaN   \n",
       "4             0.082574   0.001592                NaN                     NaN   \n",
       "\n",
       "  val/epoch val/flatness_avg_diff  val/latent_l1norm  val/loss  \n",
       "0        50                   NaN           0.172956  0.004516  \n",
       "1        50                   NaN           0.070309  0.003153  \n",
       "2        50                   NaN           0.113451  0.003434  \n",
       "3        50                   NaN           0.071301  0.004227  \n",
       "4        50                   NaN           0.094391  0.002368  \n",
       "\n",
       "[5 rows x 210 columns]"
      ]
     },
     "execution_count": 2,
     "metadata": {},
     "output_type": "execute_result"
    }
   ],
   "source": [
    "csv_path = \"../dataframes/linear_jepa_cifar.csv\"\n",
    "df = pd.read_csv(csv_path)\n",
    "df.head()"
   ]
  },
  {
   "cell_type": "code",
   "execution_count": 3,
   "metadata": {},
   "outputs": [
    {
     "data": {
      "text/plain": [
       "30"
      ]
     },
     "execution_count": 3,
     "metadata": {},
     "output_type": "execute_result"
    }
   ],
   "source": [
    "# group by the column model/encoder and average the numerical columns only\n",
    "df = df.groupby(\"model/encoder\").mean(numeric_only=True)\n",
    "len(df)"
   ]
  },
  {
   "cell_type": "code",
   "execution_count": 4,
   "metadata": {},
   "outputs": [],
   "source": [
    "relu, tanh = {}, {}\n",
    "for architecture, metrics in df.iterrows():\n",
    "    model = sequential_from_string(architecture)\n",
    "    D = model[0].out_features\n",
    "    d = relu if \"relu\" in architecture.lower() else tanh\n",
    "    d[D] = metrics[\"classification/best_acc\"]\n",
    "relu = dict(sorted(relu.items()))\n",
    "tanh = dict(sorted(tanh.items()))"
   ]
  },
  {
   "cell_type": "code",
   "execution_count": 7,
   "metadata": {},
   "outputs": [],
   "source": [
    "sparsity_relu = {}\n",
    "sparsity_tanh = {}\n",
    "for architecture, metrics in df.iterrows():\n",
    "    model = sequential_from_string(architecture)\n",
    "    D = model[0].out_features\n",
    "    d = sparsity_relu if \"relu\" in architecture.lower() else sparsity_tanh\n",
    "    d[D] = metrics[\"val/latent_l1norm\"]\n",
    "sparsity_relu = dict(sorted(sparsity_relu.items()))\n",
    "sparsity_tanh = dict(sorted(sparsity_tanh.items()))"
   ]
  },
  {
   "cell_type": "code",
   "execution_count": 10,
   "metadata": {},
   "outputs": [],
   "source": [
    "dims = list(relu.keys())"
   ]
  },
  {
   "cell_type": "markdown",
   "metadata": {},
   "source": [
    "## Raw data"
   ]
  },
  {
   "cell_type": "code",
   "execution_count": 55,
   "metadata": {},
   "outputs": [
    {
     "name": "stdout",
     "output_type": "stream",
     "text": [
      "Files already downloaded and verified\n",
      "Files already downloaded and verified\n"
     ]
    }
   ],
   "source": [
    "root = \"../data\"\n",
    "load_dataset = load_cifar\n",
    "train_size = df[\"train_size\"].iloc[0]\n",
    "test_size = df[\"test_size\"].iloc[0]\n",
    "train_dataset, train_metadata = load_dataset(train=True, log_to_wandb=False, root=root, jepa=False)\n",
    "test_dataset, test_metadata = load_dataset(train=False, log_to_wandb=False, root=root, jepa=False)\n",
    "batch_size = 64\n",
    "train_loader = DataLoader(train_dataset, batch_size=batch_size)\n",
    "test_loader = DataLoader(test_dataset, batch_size=batch_size)  # be mindful of the batch size"
   ]
  },
  {
   "cell_type": "code",
   "execution_count": 60,
   "metadata": {},
   "outputs": [
    {
     "name": "stdout",
     "output_type": "stream",
     "text": [
      "0.3696\n"
     ]
    }
   ],
   "source": [
    "input_dim = 3072\n",
    "num_classes = 10\n",
    "max_epochs = df[\"classification_epochs\"].iloc[0].astype(int)\n",
    "device = \"cpu\"\n",
    "classifier = nn.Linear(input_dim, num_classes).to(device)\n",
    "optimizer = torch.optim.AdamW(classifier.parameters(), lr=1e-3, weight_decay=1e-3)\n",
    "criterion = nn.CrossEntropyLoss()\n",
    "\n",
    "accs = train_classifier(classifier, train_loader, test_loader, criterion=criterion,\n",
    "                                   optimizer=optimizer, epochs=max_epochs, device=device)\n",
    "raw = max(accs)\n",
    "print(raw)"
   ]
  },
  {
   "cell_type": "markdown",
   "metadata": {},
   "source": [
    "## Random Projection"
   ]
  },
  {
   "cell_type": "code",
   "execution_count": 58,
   "metadata": {},
   "outputs": [
    {
     "name": "stdout",
     "output_type": "stream",
     "text": [
      "10 0.245\n",
      "20 0.2941\n",
      "30 0.3172\n",
      "50 0.3329\n",
      "100 0.3752\n",
      "200 0.3913\n",
      "300 0.3976\n",
      "400 0.4008\n",
      "500 0.4058\n",
      "750 0.4095\n",
      "1000 0.4045\n",
      "1500 0.4076\n",
      "2000 0.4021\n",
      "2500 0.3992\n",
      "3072 0.3965\n"
     ]
    }
   ],
   "source": [
    "dims = list(relu.keys())\n",
    "random = {}\n",
    "for D in dims:\n",
    "    encoder = nn.Linear(input_dim, D)\n",
    "    train_latents_dataset = build_dataset_of_latents(encoder, train_loader, device)\n",
    "    train_latents_dl = DataLoader(train_latents_dataset, batch_size=batch_size, shuffle=True)\n",
    "    test_latents_dataset = build_dataset_of_latents(encoder, test_loader, device)\n",
    "    test_latents_dl = DataLoader(test_latents_dataset, batch_size=batch_size, shuffle=False)\n",
    "    classifier = nn.Linear(D, num_classes)\n",
    "    optimizer = torch.optim.AdamW(classifier.parameters(), lr=1e-3, weight_decay=1e-3)\n",
    "    criterion = nn.CrossEntropyLoss()\n",
    "    accs = train_classifier(classifier, train_latents_dl, test_latents_dl, criterion=criterion,\n",
    "                            optimizer=optimizer, epochs=max_epochs, device=device)\n",
    "    random[D] = max(accs)\n",
    "    print(D, random[D])"
   ]
  },
  {
   "cell_type": "markdown",
   "metadata": {},
   "source": [
    "## Plot Accuracy"
   ]
  },
  {
   "cell_type": "code",
   "execution_count": 62,
   "metadata": {},
   "outputs": [
    {
     "data": {
      "image/png": "[encoded data removed]",
      "text/plain": [
       "<Figure size 1000x500 with 1 Axes>"
      ]
     },
     "metadata": {},
     "output_type": "display_data"
    }
   ],
   "source": [
    "plt.figure(figsize=(10, 5))\n",
    "plt.plot(dims, [relu[D] for D in dims], label=\"Jepa_ReLU\", color=\"red\")\n",
    "plt.plot(dims, [tanh[D] for D in dims], label=\"Jepa_Tanh\", color=\"blue\")\n",
    "plt.plot(dims, [random[D] for D in dims], label=\"Random\", color=\"black\")\n",
    "plt.axhline(raw, color=\"black\", linestyle=\"--\", label=\"Raw\")\n",
    "plt.xlabel(\"D\")\n",
    "plt.ylabel(\"Accuracy\")\n",
    "plt.legend()\n",
    "plt.show()"
   ]
  },
  {
   "cell_type": "markdown",
   "metadata": {},
   "source": [
    "## Plot Sparsity"
   ]
  },
  {
   "cell_type": "code",
   "execution_count": 13,
   "metadata": {},
   "outputs": [
    {
     "data": {
      "image/png": "[encoded data removed]",
      "text/plain": [
       "<Figure size 1000x500 with 1 Axes>"
      ]
     },
     "metadata": {},
     "output_type": "display_data"
    }
   ],
   "source": [
    "plt.figure(figsize=(10, 5))\n",
    "plt.plot(dims, [sparsity_relu[D] for D in dims], label=\"Jepa_ReLU\", color=\"red\")\n",
    "plt.plot(dims, [sparsity_tanh[D] for D in dims], label=\"Jepa_Tanh\", color=\"blue\")\n",
    "plt.xlabel(\"D\")\n",
    "plt.ylabel(\"avg l1 norm of latents on validation set\")\n",
    "plt.yscale(\"log\")\n",
    "plt.legend()\n",
    "plt.show()"
   ]
  }
 ],
 "metadata": {
  "kernelspec": {
   "display_name": "jepa",
   "language": "python",
   "name": "python3"
  },
  "language_info": {
   "codemirror_mode": {
    "name": "ipython",
    "version": 3
   },
   "file_extension": ".py",
   "mimetype": "text/x-python",
   "name": "python",
   "nbconvert_exporter": "python",
   "pygments_lexer": "ipython3",
   "version": "3.11.8"
  }
 },
 "nbformat": 4,
 "nbformat_minor": 2
}
